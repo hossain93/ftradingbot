{
 "cells": [
  {
   "cell_type": "code",
   "execution_count": null,
   "id": "222e50f4",
   "metadata": {},
   "outputs": [],
   "source": [
    "import SocketServer\n",
    "\n",
    "class MyTCPHandler(SocketServer.BaseRequestHandler):\n",
    "    \"\"\"\n",
    "    The RequestHandler class for our server.\n",
    "\n",
    "    It is instantiated once per connection to the server, and must\n",
    "    override the handle() method to implement communication to the\n",
    "    client.\n",
    "    \"\"\"\n",
    "\n",
    "    def handle(self):\n",
    "        # self.request is the TCP socket connected to the client\n",
    "        self.data = self.request.recv(1024).strip()\n",
    "        print \"{} wrote:\".format(self.client_address[0])\n",
    "        print self.data\n",
    "        # just send back the same data, but upper-cased\n",
    "        self.request.sendall(self.data.upper())\n",
    "\n",
    "if __name__ == \"__main__\":\n",
    "    HOST, PORT = \"localhost\", 9999\n",
    "\n",
    "    # Create the server, binding to localhost on port 9999\n",
    "    server = SocketServer.TCPServer((HOST, PORT), MyTCPHandler)\n",
    "\n",
    "    # Activate the server; this will keep running until you\n",
    "    # interrupt the program with Ctrl-C\n",
    "    server.serve_forever()"
   ]
  },
  {
   "cell_type": "code",
   "execution_count": null,
   "id": "bdaa29d8",
   "metadata": {},
   "outputs": [
    {
     "name": "stdout",
     "output_type": "stream",
     "text": [
      "Server is listing on the port 10000...\n",
      "{'127.0.0.1:63715': <socket.socket fd=1400, family=AddressFamily.AF_INET, type=SocketKind.SOCK_STREAM, proto=0, laddr=('127.0.0.1', 10000), raddr=('127.0.0.1', 63715)>}\n",
      "<socket.socket fd=1400, family=AddressFamily.AF_INET, type=SocketKind.SOCK_STREAM, proto=0, laddr=('127.0.0.1', 10000), raddr=('127.0.0.1', 63715)>\n",
      "('127.0.0.1', 63715)\n",
      "Connected to: 127.0.0.1:63715\n",
      "1\n"
     ]
    }
   ],
   "source": [
    "import socket\n",
    "import threading\n",
    "import datetime\n",
    "\n",
    "host = '127.0.0.1'\n",
    "port = 10000\n",
    "ThreadCount = 0\n",
    "class sockethandler_users():\n",
    "    def __init__(self):\n",
    "        self.client={}\n",
    "\n",
    "    def send(self):\n",
    "        print(1)\n",
    "        self.client[[*self.client][0]].send(str.encode('you are conected now'))\n",
    "        x=1\n",
    "        while x==1:\n",
    "            for i in self.client:\n",
    "                self.client[i].send(str.encode('you are conected now eee'))\n",
    "                message=self.recive()\n",
    "            if message=='ok':\n",
    "                break\n",
    "    def recive(self):\n",
    "        x=1\n",
    "        while x==1:\n",
    "            for i in self.client:\n",
    "                data = self.client[i].recv(2048)\n",
    "                message = data.decode('utf-8')\n",
    "            if message=='ok':\n",
    "                print('newmessage',message)\n",
    "                break\n",
    "        return message\n",
    "    def accept_connections(self,ServerSocket):\n",
    "        Client, address = ServerSocket.accept()\n",
    "        self.client['%s:%s' % (address[0],str(address[1]))]=Client\n",
    "        print(self.client)\n",
    "        print(Client)\n",
    "        print(address)\n",
    "        print('Connected to: ' + address[0] + ':' + str(address[1]))\n",
    "        self.send()\n",
    "\n",
    "    def start_server(self,host, port):\n",
    "        x=1\n",
    "        ServerSocket = socket.socket()\n",
    "        try:\n",
    "            ServerSocket.bind((host, port))\n",
    "        except socket.error as e:\n",
    "            print(str(e))\n",
    "        print(f'Server is listing on the port {port}...')\n",
    "        ServerSocket.listen()\n",
    "\n",
    "        while x==1:\n",
    "            self.accept_connections(ServerSocket)\n",
    "d=sockethandler_users()\n",
    "d.start_server(host, port)"
   ]
  },
  {
   "cell_type": "code",
   "execution_count": null,
   "id": "2bd19a48",
   "metadata": {},
   "outputs": [],
   "source": [
    "import socket\n",
    "import threading\n",
    "import sqlite3\n",
    "import datetime\n",
    "\n",
    "host = '127.0.0.1'\n",
    "port = 10000\n",
    "ThreadCount = 0\n",
    "def client_handler(connection):\n",
    "    x=1\n",
    "    connection.send(str.encode('You are now connected to the replay server... Type BYE to stop'))\n",
    "    while x==1:\n",
    "\n",
    "        data = connection.recv(2048)\n",
    "        message = data.decode('utf-8')\n",
    "        if message == 'BYE':\n",
    "            break\n",
    "        reply = f'Server: {message}'\n",
    "        connection.sendall(str.encode(reply))\n",
    "    connection.close()\n",
    "\n",
    "def accept_connections(ServerSocket):\n",
    "    Client, address = ServerSocket.accept()\n",
    "    print(Client)\n",
    "    print('addres;',address)\n",
    "    print(type(address))\n",
    "    print('Connected to: ' + address[0] + ':' + str(address[1]))\n",
    "    threading.Thread(target=client_handler,args=(Client,)).start()\n",
    "\n",
    "def start_server(host, port):\n",
    "    x=1\n",
    "    ServerSocket = socket.socket()\n",
    "    try:\n",
    "        ServerSocket.bind((host, port))\n",
    "    except socket.error as e:\n",
    "        print(str(e))\n",
    "    print(f'Server is listing on the port {port}...')\n",
    "    ServerSocket.listen()\n",
    "\n",
    "    while x==1:\n",
    "        accept_connections(ServerSocket)\n",
    "start_server(host, port)"
   ]
  },
  {
   "cell_type": "code",
   "execution_count": 1,
   "id": "bb2ac75d",
   "metadata": {},
   "outputs": [
    {
     "name": "stderr",
     "output_type": "stream",
     "text": [
      "Enabling notebook extension highlight_selected_word/main...\n",
      "      - Validating: ok\n"
     ]
    }
   ],
   "source": [
    "!jupyter nbextension enable highlight_selected_word/main"
   ]
  }
 ],
 "metadata": {
  "kernelspec": {
   "display_name": "Python 3 (ipykernel)",
   "language": "python",
   "name": "python3"
  },
  "language_info": {
   "codemirror_mode": {
    "name": "ipython",
    "version": 3
   },
   "file_extension": ".py",
   "mimetype": "text/x-python",
   "name": "python",
   "nbconvert_exporter": "python",
   "pygments_lexer": "ipython3",
   "version": "3.10.5"
  },
  "varInspector": {
   "cols": {
    "lenName": 16,
    "lenType": 16,
    "lenVar": 40
   },
   "kernels_config": {
    "python": {
     "delete_cmd_postfix": "",
     "delete_cmd_prefix": "del ",
     "library": "var_list.py",
     "varRefreshCmd": "print(var_dic_list())"
    },
    "r": {
     "delete_cmd_postfix": ") ",
     "delete_cmd_prefix": "rm(",
     "library": "var_list.r",
     "varRefreshCmd": "cat(var_dic_list()) "
    }
   },
   "types_to_exclude": [
    "module",
    "function",
    "builtin_function_or_method",
    "instance",
    "_Feature"
   ],
   "window_display": false
  }
 },
 "nbformat": 4,
 "nbformat_minor": 5
}
