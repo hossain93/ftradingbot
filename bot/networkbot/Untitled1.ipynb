{
 "cells": [
  {
   "cell_type": "code",
   "execution_count": 6,
   "id": "067459b7",
   "metadata": {},
   "outputs": [],
   "source": []
  },
  {
   "cell_type": "code",
   "execution_count": 9,
   "id": "d50d72d0",
   "metadata": {},
   "outputs": [
    {
     "ename": "TypeError",
     "evalue": "SSLSocket does not have a public constructor. Instances are returned by SSLContext.wrap_socket().",
     "output_type": "error",
     "traceback": [
      "\u001b[1;31m---------------------------------------------------------------------------\u001b[0m",
      "\u001b[1;31mTypeError\u001b[0m                                 Traceback (most recent call last)",
      "Cell \u001b[1;32mIn [9], line 16\u001b[0m\n\u001b[0;32m     10\u001b[0m sock\u001b[38;5;241m.\u001b[39msettimeout(\u001b[38;5;241m10\u001b[39m)\n\u001b[0;32m     12\u001b[0m \u001b[38;5;66;03m# WRAP SOCKET\u001b[39;00m\n\u001b[0;32m     13\u001b[0m \u001b[38;5;66;03m# wrappedSocket = SSLContext.wrap_socket(sock, ssl_version=ssl.PROTOCOL_TLSv1, ciphers=\"ADH-AES256-SHA\")\u001b[39;00m\n\u001b[0;32m     14\u001b[0m \u001b[38;5;66;03m# HOST = \"sni.velox.ch\"\u001b[39;00m\n\u001b[0;32m     15\u001b[0m \u001b[38;5;66;03m# s1 = socket.socket(socket.AF_INET, socket.SOCK_STREAM)\u001b[39;00m\n\u001b[1;32m---> 16\u001b[0m wrappedSocket \u001b[38;5;241m=\u001b[39m \u001b[43mssl\u001b[49m\u001b[38;5;241;43m.\u001b[39;49m\u001b[43mSSLSocket\u001b[49m\u001b[43m(\u001b[49m\u001b[43msock\u001b[49m\u001b[38;5;241;43m=\u001b[39;49m\u001b[43msock\u001b[49m\u001b[43m,\u001b[49m\u001b[43mcert_reqs\u001b[49m\u001b[38;5;241;43m=\u001b[39;49m\u001b[43mssl\u001b[49m\u001b[38;5;241;43m.\u001b[39;49m\u001b[43mCERT_REQUIRED\u001b[49m\u001b[43m,\u001b[49m\u001b[43mssl_version\u001b[49m\u001b[38;5;241;43m=\u001b[39;49m\u001b[43mssl\u001b[49m\u001b[38;5;241;43m.\u001b[39;49m\u001b[43mPROTOCOL_TLSv1\u001b[49m\u001b[43m,\u001b[49m\u001b[43mserver_hostname\u001b[49m\u001b[38;5;241;43m=\u001b[39;49m\u001b[43mHOST\u001b[49m\u001b[43m)\u001b[49m\n\u001b[0;32m     18\u001b[0m \u001b[38;5;66;03m# CONNECT AND PRINT REPLY\u001b[39;00m\n\u001b[0;32m     19\u001b[0m wrappedSocket\u001b[38;5;241m.\u001b[39mconnect((HOST, PORT))\n",
      "File \u001b[1;32m~\\AppData\\Local\\Programs\\Python\\Python310\\lib\\ssl.py:1008\u001b[0m, in \u001b[0;36mSSLSocket.__init__\u001b[1;34m(self, *args, **kwargs)\u001b[0m\n\u001b[0;32m   1007\u001b[0m \u001b[38;5;28;01mdef\u001b[39;00m \u001b[38;5;21m__init__\u001b[39m(\u001b[38;5;28mself\u001b[39m, \u001b[38;5;241m*\u001b[39margs, \u001b[38;5;241m*\u001b[39m\u001b[38;5;241m*\u001b[39mkwargs):\n\u001b[1;32m-> 1008\u001b[0m     \u001b[38;5;28;01mraise\u001b[39;00m \u001b[38;5;167;01mTypeError\u001b[39;00m(\n\u001b[0;32m   1009\u001b[0m         \u001b[38;5;124mf\u001b[39m\u001b[38;5;124m\"\u001b[39m\u001b[38;5;132;01m{\u001b[39;00m\u001b[38;5;28mself\u001b[39m\u001b[38;5;241m.\u001b[39m\u001b[38;5;18m__class__\u001b[39m\u001b[38;5;241m.\u001b[39m\u001b[38;5;18m__name__\u001b[39m\u001b[38;5;132;01m}\u001b[39;00m\u001b[38;5;124m does not have a public \u001b[39m\u001b[38;5;124m\"\u001b[39m\n\u001b[0;32m   1010\u001b[0m         \u001b[38;5;124mf\u001b[39m\u001b[38;5;124m\"\u001b[39m\u001b[38;5;124mconstructor. Instances are returned by \u001b[39m\u001b[38;5;124m\"\u001b[39m\n\u001b[0;32m   1011\u001b[0m         \u001b[38;5;124mf\u001b[39m\u001b[38;5;124m\"\u001b[39m\u001b[38;5;124mSSLContext.wrap_socket().\u001b[39m\u001b[38;5;124m\"\u001b[39m\n\u001b[0;32m   1012\u001b[0m     )\n",
      "\u001b[1;31mTypeError\u001b[0m: SSLSocket does not have a public constructor. Instances are returned by SSLContext.wrap_socket()."
     ]
    }
   ],
   "source": [
    "import socket\n",
    "import ssl\n",
    "from ssl import SSLContext\n",
    "# SET VARIABLES\n",
    "packet, reply = \"<packet>SOME_DATA</packet>\", \"\"\n",
    "HOST, PORT = '127.0.0.1', 10000\n",
    "\n",
    "# CREATE SOCKET\n",
    "sock = socket.socket(socket.AF_INET, socket.SOCK_STREAM)\n",
    "sock.settimeout(10)\n",
    "\n",
    "# WRAP SOCKET\n",
    "# wrappedSocket = SSLContext.wrap_socket(sock, ssl_version=ssl.PROTOCOL_TLSv1, ciphers=\"ADH-AES256-SHA\")\n",
    "# HOST = \"sni.velox.ch\"\n",
    "# s1 = socket.socket(socket.AF_INET, socket.SOCK_STREAM)\n",
    "wrappedSocket = ssl.SSLSocket(sock=sock,cert_reqs=ssl.CERT_REQUIRED,ssl_version=ssl.PROTOCOL_TLSv1,server_hostname=HOST)\n",
    "\n",
    "# CONNECT AND PRINT REPLY\n",
    "wrappedSocket.connect((HOST, PORT))\n",
    "wrappedSocket.send(packet)\n",
    "print (wrappedSocket.recv(1280))\n",
    "\n",
    "# CLOSE SOCKET CONNECTION\n",
    "wrappedSocket.close()"
   ]
  }
 ],
 "metadata": {
  "kernelspec": {
   "display_name": "Python 3 (ipykernel)",
   "language": "python",
   "name": "python3"
  },
  "language_info": {
   "codemirror_mode": {
    "name": "ipython",
    "version": 3
   },
   "file_extension": ".py",
   "mimetype": "text/x-python",
   "name": "python",
   "nbconvert_exporter": "python",
   "pygments_lexer": "ipython3",
   "version": "3.10.5"
  },
  "varInspector": {
   "cols": {
    "lenName": 16,
    "lenType": 16,
    "lenVar": 40
   },
   "kernels_config": {
    "python": {
     "delete_cmd_postfix": "",
     "delete_cmd_prefix": "del ",
     "library": "var_list.py",
     "varRefreshCmd": "print(var_dic_list())"
    },
    "r": {
     "delete_cmd_postfix": ") ",
     "delete_cmd_prefix": "rm(",
     "library": "var_list.r",
     "varRefreshCmd": "cat(var_dic_list()) "
    }
   },
   "types_to_exclude": [
    "module",
    "function",
    "builtin_function_or_method",
    "instance",
    "_Feature"
   ],
   "window_display": false
  }
 },
 "nbformat": 4,
 "nbformat_minor": 5
}
