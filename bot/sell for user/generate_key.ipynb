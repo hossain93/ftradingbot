{
 "cells": [
  {
   "cell_type": "markdown",
   "id": "ab6e92f6",
   "metadata": {},
   "source": [
    "اینو اول فایلم بزارم تا از کاربر اون کلید اولیه را بگیرم"
   ]
  },
  {
   "cell_type": "code",
   "execution_count": null,
   "id": "5610cabc",
   "metadata": {},
   "outputs": [],
   "source": [
    "import sys\n",
    "import os\n",
    "def user_get():\n",
    "    os_type = sys.platform.lower()\n",
    "\n",
    "    if \"darwin\" in os_type:\n",
    "        command = \"ioreg -l | grep IOPlatformSerialNumber\"\n",
    "    elif \"win\" in os_type:\n",
    "        command = \"wmic bios get serialnumber\"\n",
    "    elif \"linux\" in os_type:\n",
    "        command = \"dmidecode -s baseboard-serial-number\"\n",
    "    d=(os.popen(command).read().replace(\"\\n\",\"\").replace(\"  \", \"\").replace(\" \", \"\"))#[12:20]\n",
    "\n",
    "    return d\n",
    "d=user_get()\n",
    "d"
   ]
  },
  {
   "cell_type": "markdown",
   "id": "57903366",
   "metadata": {},
   "source": [
    "اینو در مسیر فایل نرم افزار بزارم و با هر بار رانش با یک فایل بش بتونم اون کلید کاربر و کلیدی که میخوام تو مسیر نرم افزار بزارم بگیرم"
   ]
  },
  {
   "cell_type": "code",
   "execution_count": 1,
   "id": "1f62283f",
   "metadata": {},
   "outputs": [
    {
     "name": "stdout",
     "output_type": "stream",
     "text": [
      "[1, 0]\n",
      "\n",
      "insert into key software:  ['1', '3', '9', '2', '5', '8', '5', '5', '6', '1', '7', '3', '6', '3', '3', '4', '2', '4', '3', '6', '9', '6', '6', '7', '4', '6', '5', '8', '8', '8', '9', '5', '1', '4', '1', '1', '2', '6', '2', '5', '2', '2', '3', '1']\n",
      "125316\n",
      "\n",
      "numsecond ['1', '2', '5', '3', '1', '6']\n",
      "key value:  {0: '7', 1: '8', 3: '9', 4: '6', 5: '5', 13: '1', 15: '3', 19: '4', 24: '2'}\n",
      "user key:  78S9656Zp5De6113q1z4451d23n291Z65ZJ6G28j38h665qK7582223P4W4339z1:12lbJd5D31610\n"
     ]
    }
   ],
   "source": [
    "import random\n",
    "import string\n",
    "import base64\n",
    "from Crypto.Cipher import AES\n",
    "from Crypto.Hash import SHA256\n",
    "from Crypto import Random\n",
    "serialnumber='SerialNumberFBN0CV28147445B'\n",
    "# for software\n",
    "# اینو داخل نرم افزار قرار بدم  و بعد چک کنم که اعداد  کلیدی که به کاربر دادم داخل این هست یا نه\n",
    "\n",
    "key_user = list(''.join([random.choice(string.ascii_letters) for n in range(64)]))\n",
    "\n",
    "nu=[int(i) for i in serialnumber if i.isdigit()]\n",
    "randomnum=[random.randint(0,5) for i in range(2)]\n",
    "print(randomnum)\n",
    "plusone=[i+1 for i in nu]\n",
    "minuseone=[i-1 for i in nu]\n",
    "plustwo=[i+2 for i in nu]\n",
    "plusthree=[i+4 for i in nu]\n",
    "minusetwo=[i-3 for i in nu]\n",
    "minusethree=[i-2 for i in nu]\n",
    "allnumber=plusone+minuseone+plustwo+plusthree +minusetwo+minusethree+randomnum\n",
    "allnumber=[i for i in allnumber if (i<10) and (i>0)]\n",
    "allnumber=[str(i) for i in allnumber]\n",
    "k=[]\n",
    "print('\\ninsert into key software: ',allnumber)\n",
    "for i in (allnumber):\n",
    "    \n",
    "    while 1:\n",
    "        t=random.randint(0,len(key_user)-1)\n",
    "        if t not in k:\n",
    "            k.append(t)\n",
    "            key_user[t]=i\n",
    "            break\n",
    "key_user=\"\".join(key_user)        \n",
    "\n",
    "\n",
    "key_second = list(''.join([random.choice(string.ascii_letters) for n in range(5)]))\n",
    "numsecond=[int(i) for i in allnumber]\n",
    "numsecond=((sum(numsecond))*2-748)**2\n",
    "print(numsecond)\n",
    "numsecond=list(str(numsecond))\n",
    "print('\\nnumsecond',numsecond)\n",
    "k=[]\n",
    "p=0\n",
    "while 1:\n",
    "\n",
    "    t=random.randint(0,1)\n",
    "    if (len(numsecond)==0) and (len(key_second)==0):\n",
    "        break\n",
    "    elif (t==0) and (len(numsecond)>0):\n",
    "        k.append(numsecond[0])\n",
    "        numsecond.pop(0)\n",
    "        p+=1\n",
    "\n",
    "    elif (t==1) and (len(key_second)>0):\n",
    "        k.append(key_second[0])\n",
    "        key_second.pop(0)\n",
    "        p+=1\n",
    "\n",
    "\n",
    "\n",
    "k=\"\".join(k)\n",
    "\n",
    "key_second=k\n",
    "index={key_user.index(i):i for i in key_user if i.isdigit()}\n",
    "user_key=key_user + ':' + key_second+\"\".join([str(i) for i in randomnum])\n",
    "print('key value: ',index)\n",
    "print(\"user key: \",user_key)\n",
    "\n",
    "def generate_key():\n",
    "    key=user_key.split(\":\")\n",
    "    key_u=key[0]\n",
    "    key_se=key[1]\n",
    "\n",
    "    t=[i for i in list(key_se) if i.isdigit()]\n",
    "    t=(len(t))*2\n",
    "    key=(key_se[int(-t/2)::] + key_u[int(-t/2)::])\n",
    "    return key\n",
    "\n",
    "def encrypt(key, source, encode=True):\n",
    "    key = SHA256.new(key).digest()\n",
    "    IV = Random.new().read(AES.block_size)\n",
    "    encryptor = AES.new(key, AES.MODE_CBC, IV)\n",
    "    padding = AES.block_size - len(source) % AES.block_size\n",
    "    source += bytes([padding]) * padding\n",
    "    data = IV + encryptor.encrypt(source)\n",
    "    return base64.b64encode(data).decode(\"latin-1\") if encode else data\n",
    "\n",
    "key=(generate_key()).encode()\n",
    "source=json.dumps(index).encode()\n",
    "encrypted=encrypt(key,source, encode=True)\n",
    "with open('key.json','wb') as f:\n",
    "    f.write(encrypted.encode())\n",
    "    \n",
    "    \n",
    "entry_trader={\"st\": 0, \"leverage\": 0, \"sl\": 0, \"sellorbuy\": None,'stopPrice_sl':0,\n",
    "              'stop_trail':0,'symbol':'XRPUSDTM',\"propertise\":{\"sl\":0.03,\"number_user\":None,'rond':None,\n",
    "              \"token_machin\":user_key,'commission':None ,'change_st_leverage':0 , \"limit_money\":100}}\n",
    "json.dump(entry_trader, open('entry_trader.json', 'w'))"
   ]
  },
  {
   "cell_type": "code",
   "execution_count": null,
   "id": "5f779325",
   "metadata": {},
   "outputs": [],
   "source": [
    "\n",
    "t=[i for i in \"KvGmO36966445\" if i.isdigit()]\n",
    "t=\n",
    "t"
   ]
  },
  {
   "cell_type": "code",
   "execution_count": null,
   "id": "7e80231f",
   "metadata": {},
   "outputs": [],
   "source": [
    "import base64\n",
    "from Crypto.Cipher import AES\n",
    "from Crypto.Hash import SHA256\n",
    "from Crypto import Random\n",
    "key=(\"84GjyK8sf515\").encode()\n",
    "def encrypt(key, source, encode=True):\n",
    "    key = SHA256.new(key).digest()\n",
    "    IV = Random.new().read(AES.block_size)\n",
    "    encryptor = AES.new(key, AES.MODE_CBC, IV)\n",
    "    padding = AES.block_size - len(source) % AES.block_size\n",
    "    source += bytes([padding]) * padding\n",
    "    data = IV + encryptor.encrypt(source)\n",
    "    return base64.b64encode(data).decode(\"latin-1\") if encode else data\n",
    "\n",
    "def decrypt(key, source, decode=True):\n",
    "    if decode:\n",
    "        source = base64.b64decode(source.encode(\"latin-1\"))\n",
    "    key = SHA256.new(key).digest()\n",
    "    IV = source[:AES.block_size]\n",
    "    decryptor = AES.new(key, AES.MODE_CBC, IV)\n",
    "    data = decryptor.decrypt(source[AES.block_size:])\n",
    "    padding = data[-1]\n",
    "    if data[-padding:] != bytes([padding]) * padding:\n",
    "        raise ValueError(\"Invalid padding...\")\n",
    "    return data[:-padding]\n",
    "with open('filename.json','rb') as f:\n",
    "    source = f.read()\n",
    "encrypted=encrypt(key, source, encode=True)\n",
    "with open('key.json','wb') as f:\n",
    "    f.write(encrypted.encode())\n",
    "    \n",
    "    \n"
   ]
  },
  {
   "cell_type": "code",
   "execution_count": null,
   "id": "2fbac2b6",
   "metadata": {},
   "outputs": [],
   "source": [
    "with open('key.json','rb') as f:\n",
    "    source = f.read().decode()\n",
    "t=decrypt(key, source, decode=True)\n",
    "t=t.decode()\n",
    "eval(t)"
   ]
  }
 ],
 "metadata": {
  "kernelspec": {
   "display_name": "Python 3 (ipykernel)",
   "language": "python",
   "name": "python3"
  },
  "language_info": {
   "codemirror_mode": {
    "name": "ipython",
    "version": 3
   },
   "file_extension": ".py",
   "mimetype": "text/x-python",
   "name": "python",
   "nbconvert_exporter": "python",
   "pygments_lexer": "ipython3",
   "version": "3.10.5"
  },
  "varInspector": {
   "cols": {
    "lenName": 16,
    "lenType": 16,
    "lenVar": 40
   },
   "kernels_config": {
    "python": {
     "delete_cmd_postfix": "",
     "delete_cmd_prefix": "del ",
     "library": "var_list.py",
     "varRefreshCmd": "print(var_dic_list())"
    },
    "r": {
     "delete_cmd_postfix": ") ",
     "delete_cmd_prefix": "rm(",
     "library": "var_list.r",
     "varRefreshCmd": "cat(var_dic_list()) "
    }
   },
   "types_to_exclude": [
    "module",
    "function",
    "builtin_function_or_method",
    "instance",
    "_Feature"
   ],
   "window_display": false
  }
 },
 "nbformat": 4,
 "nbformat_minor": 5
}
